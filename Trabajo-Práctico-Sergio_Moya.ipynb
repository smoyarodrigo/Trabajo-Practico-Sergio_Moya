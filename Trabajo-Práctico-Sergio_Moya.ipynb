{
 "cells": [
  {
   "cell_type": "markdown",
   "id": "1c719810-9fc1-49be-8db1-81ab4fb4a4c3",
   "metadata": {},
   "source": [
    "## Algoritmos de optimización - Trabajo Práctico\n",
    "\n",
    "# Nombre y Apellidos: Sergio Moya Rodrigo"
   ]
  },
  {
   "cell_type": "markdown",
   "id": "8881fab7-03c0-4df0-8289-8da12d6a6799",
   "metadata": {},
   "source": [
    "## https://github.com/smoyarodrigo/Trabajo-Practico-Sergio_Moya "
   ]
  },
  {
   "cell_type": "markdown",
   "id": "94071a12-c751-43b6-8864-67c8a779ade4",
   "metadata": {},
   "source": [
    "## Problema:\n",
    "\n",
    "Sesiones de doblaje"
   ]
  },
  {
   "cell_type": "markdown",
   "id": "ee2146de-3e49-4bdf-968b-3847a2893574",
   "metadata": {},
   "source": [
    "## Se precisa coordinar el doblaje de una película. Los actores del doblaje deben coincidir en las \n",
    "tomas en las que sus personajes aparecen juntos en las diferentes tomas. Los actores de\r\n",
    "doblaje cobran todos la misma cantidad por cada día que deben desplazarse hasta el estudio d \r\n",
    "grabación independientemente del número de tomas que se graben. No es posible grabar  s \r\n",
    "de 6 tomas por día. El objetivo es planificar las sesiones por día de manera que el gasto por os \r\n",
    "servicios de los actores de doblaje sea el menor posible. Los datos son:"
   ]
  },
  {
   "cell_type": "markdown",
   "id": "79994d44-5f24-4679-843c-81af45a06d04",
   "metadata": {},
   "source": [
    "## Número de actores : 10\n",
    "## Número de tomaas : 30\n",
    "## Actores/Tomas : https://bit.ly/36D8IuK"
   ]
  },
  {
   "cell_type": "markdown",
   "id": "6493c273-0e73-48b5-b714-0d7dcaaa18ba",
   "metadata": {},
   "source": [
    "## 1 indica que el actor participa en la toma \n",
    "## 0 en caso contrario"
   ]
  },
  {
   "cell_type": "code",
   "execution_count": null,
   "id": "ce175701-7e07-4a85-bb04-401d789f293d",
   "metadata": {},
   "outputs": [],
   "source": []
  },
  {
   "cell_type": "markdown",
   "id": "8716ba53-7869-42fc-8080-3569bfffea71",
   "metadata": {},
   "source": [
    "# Modelo\n",
    "# - ¿Como represento el espacio de soluciones?\n",
    "# - ¿Cual es la función objetivo?\n",
    "# - ¿Como implemento las restricciones?"
   ]
  },
  {
   "cell_type": "markdown",
   "id": "fa1af432-007b-400c-b648-244372c936f7",
   "metadata": {},
   "source": [
    "# Espacio de soluciones: Asignación de tomas a días en subconjuntos de máximo 6, asegurando compatibilidad de actores.\n",
    "\n",
    "# Función objetivo: Minimizar los días utilizados.\n",
    "\n",
    "# Restricciones: Cada toma se asigna a un día, máximo 6 tomas por día, y compatibilidad de actores en cada día.\n",
    "\n",
    "# Visualizamos código: \n"
   ]
  },
  {
   "cell_type": "code",
   "execution_count": 19,
   "id": "29a7afef-bb7b-46ea-af15-5e4b512057a1",
   "metadata": {},
   "outputs": [
    {
     "name": "stdout",
     "output_type": "stream",
     "text": [
      "Requirement already satisfied: pulp in c:\\users\\e0500293\\appdata\\local\\anaconda3\\lib\\site-packages (2.9.0)\n",
      "Días de grabación mínimos: 5\n",
      "Día 18: Tomas [1, 14, 15, 21, 27, 29]\n",
      "Día 20: Tomas [3, 7, 8, 13, 16, 19]\n",
      "Día 23: Tomas [0, 4, 11, 24, 25, 28]\n",
      "Día 26: Tomas [5, 6, 10, 18, 22, 23]\n",
      "Día 28: Tomas [2, 9, 12, 17, 20, 26]\n"
     ]
    }
   ],
   "source": [
    "!pip install pulp\n",
    "from pulp import LpProblem, LpMinimize, LpVariable, lpSum, PULP_CBC_CMD\n",
    "import numpy as np\n",
    "\n",
    "# Datos\n",
    "num_tomas = 30\n",
    "num_actores = 10\n",
    "max_tomas_por_dia = 6\n",
    "\n",
    "tomas_participacion = [\n",
    "    [1,1,1,1,1,0,0,0,0,0], [0,0,1,1,1,0,0,0,0,0], [0,1,0,0,1,0,1,0,0,0],\n",
    "    [1,1,0,0,0,0,1,1,0,0], [0,1,0,1,0,0,0,1,0,0], [1,1,0,1,1,0,0,0,0,0],\n",
    "    [1,1,0,1,1,0,0,0,0,0], [1,1,0,0,0,1,0,0,0,0], [1,1,0,1,0,0,0,0,0,0],\n",
    "    [1,1,0,0,0,1,0,0,1,0], [1,1,1,0,1,0,0,1,0,0], [1,1,1,1,0,1,0,0,0,0],\n",
    "    [1,0,0,1,1,0,0,0,0,0], [1,0,1,0,0,1,0,0,0,0], [1,1,0,0,0,0,1,0,0,0],\n",
    "    [0,0,0,1,0,0,0,0,0,1], [1,0,1,0,0,0,0,0,0,0], [0,0,1,0,0,1,0,0,0,0],\n",
    "    [1,0,1,0,0,0,0,0,0,0], [1,0,1,1,1,0,0,0,0,0], [0,0,0,0,0,1,0,1,0,0],\n",
    "    [1,1,1,1,0,0,0,0,0,0], [1,0,1,0,0,0,0,0,0,0], [0,0,1,0,0,1,0,0,0,0],\n",
    "    [1,1,0,1,0,0,0,0,0,1], [1,0,1,0,1,0,0,0,1,0], [0,0,0,1,1,0,0,0,0,0],\n",
    "    [1,0,0,1,0,0,0,0,0,0], [1,0,0,0,1,1,0,0,0,0], [1,0,0,1,0,0,0,0,0,0]\n",
    "]\n",
    "\n",
    "# Máximo número de días posibles en el peor caso\n",
    "num_dias_max = num_tomas  \n",
    "\n",
    "dias = range(num_dias_max)\n",
    "tomas = range(num_tomas)\n",
    "actores = range(num_actores)\n",
    "\n",
    "# Definir el problema\n",
    "problema = LpProblem(\"Minimizar_Dias_Grabacion\", LpMinimize)\n",
    "\n",
    "# Variables de decisión\n",
    "x = LpVariable.dicts(\"x\", [(t, d) for t in tomas for d in dias], cat=\"Binary\")\n",
    "y = LpVariable.dicts(\"y\", dias, cat=\"Binary\")  # 1 si el día se usa\n",
    "\n",
    "# Función objetivo: Minimizar número de días de grabación\n",
    "problema += lpSum(y[d] for d in dias)\n",
    "\n",
    "# Restricción 1: Cada toma debe asignarse exactamente a un día\n",
    "for t in tomas:\n",
    "    problema += lpSum(x[(t, d)] for d in dias) == 1\n",
    "\n",
    "# Restricción 2: No más de 6 tomas por día\n",
    "for d in dias:\n",
    "    problema += lpSum(x[(t, d)] for t in tomas) <= max_tomas_por_dia * y[d]\n",
    "\n",
    "# Restricción 3: Compatibilidad de actores\n",
    "for d in dias:\n",
    "    for a in actores:\n",
    "        problema += lpSum(x[(t, d)] * tomas_participacion[t][a] for t in tomas) <= num_tomas * y[d]\n",
    "\n",
    "# Resolver el problema\n",
    "problema.solve(PULP_CBC_CMD(msg=False))\n",
    "\n",
    "# Resultados\n",
    "print(f\"Días de grabación mínimos: {int(sum(y[d].varValue for d in dias))}\")\n",
    "for d in dias:\n",
    "    if y[d].varValue == 1:\n",
    "        tomas_dia = [t for t in tomas if x[(t, d)].varValue == 1]\n",
    "        print(f\"Día {d + 1}: Tomas {tomas_dia}\")\n"
   ]
  },
  {
   "cell_type": "markdown",
   "id": "acb57a86-a08e-4a3e-9a99-f0533e884604",
   "metadata": {},
   "source": [
    "## Análisis\r",
    "# \n",
    "¿Que complejidad tiene el problema?. Orden de complejidad y Contabilizar el espacio de soluciones"
   ]
  },
  {
   "cell_type": "markdown",
   "id": "e835f7eb-cf03-4317-8af9-a9e3b5c6efda",
   "metadata": {},
   "source": [
    "## El problema puede ser visto como una variación del problema de empaquetamiento binario (bin packing problem), donde:Las tomas son los elementos a empacar.Los días son los contenedores con una capacidad máxima de 6 tomas.Se deben cumplir restricciones adicionales de compatibilidad de actores."
   ]
  },
  {
   "cell_type": "markdown",
   "id": "a4e7cb3e-da38-4dd4-a8c0-b725028ae330",
   "metadata": {},
   "source": [
    "## Número de particiones posibles:\n",
    "\n",
    "# El número de maneras en que se pueden dividir 30. 30 tomas en bloques de hasta 6 es similar a una combinación restringida. Esto es exponencial en 30."
   ]
  },
  {
   "cell_type": "markdown",
   "id": "bd0f261f-c29d-46d7-b289-9485d5b28f3a",
   "metadata": {},
   "source": [
    "## El problema es exponencial en complejidad debido a la gran cantidad de formas de agrupar tomas y las restricciones de compatibilidad. Resolverlo exactamente con ILP puede ser computacionalmente costoso, por lo que algoritmos heurísticos como greedy o metaheurísticas (búsqueda local, algoritmos genéticos) pueden ser útiles.\n",
    "\n"
   ]
  },
  {
   "cell_type": "code",
   "execution_count": null,
   "id": "fc50e8ae-6683-4dae-8771-12d9e0bcc78d",
   "metadata": {},
   "outputs": [],
   "source": []
  },
  {
   "cell_type": "markdown",
   "id": "48a35bdb-61f6-4eb8-83b7-06fce52d9800",
   "metadata": {},
   "source": [
    "## Diseño:\n",
    "\n",
    "# Qué técnica utilizo y por qué"
   ]
  },
  {
   "cell_type": "markdown",
   "id": "2ba14786-69a5-4f32-961b-898c5c3453f8",
   "metadata": {},
   "source": [
    "## Para resolver este problema, Para resolver este problema, la técnica que uso es Estrategia Heurística Greedy más adecuada es el uso de algoritmos de búsqueda con restricciones combinado con heurísticas de optimización. "
   ]
  },
  {
   "cell_type": "markdown",
   "id": "917c737f-4979-4fe0-8aab-3eda001fa62b",
   "metadata": {},
   "source": [
    "## Por qué Heurísticas?: Dado que el problema es NP-completo (similar al problema de coloreado de grafos), no es práctico buscar una solución exacta en un tiempo razonable Las heurísticas permiten encontrar soluciones aproximadas de buena calidad en un tiempo aceptable"
   ]
  },
  {
   "cell_type": "code",
   "execution_count": 26,
   "id": "3c79ef95-b7b2-48fd-86cc-422cd3440055",
   "metadata": {},
   "outputs": [
    {
     "name": "stdout",
     "output_type": "stream",
     "text": [
      "Días de grabación necesarios: 22\n",
      "Día 1: Tomas [0, 20]\n",
      "Día 2: Tomas [1, 3]\n",
      "Día 3: Tomas [2, 13, 15]\n",
      "Día 4: Tomas [4, 16]\n",
      "Día 5: Tomas [5, 17]\n",
      "Día 6: Tomas [6, 23]\n",
      "Día 7: Tomas [7, 26]\n",
      "Día 8: Tomas [8]\n",
      "Día 9: Tomas [9]\n",
      "Día 10: Tomas [10]\n",
      "Día 11: Tomas [11]\n",
      "Día 12: Tomas [12]\n",
      "Día 13: Tomas [14]\n",
      "Día 14: Tomas [18]\n",
      "Día 15: Tomas [19]\n",
      "Día 16: Tomas [21]\n",
      "Día 17: Tomas [22]\n",
      "Día 18: Tomas [24]\n",
      "Día 19: Tomas [25]\n",
      "Día 20: Tomas [27]\n",
      "Día 21: Tomas [28]\n",
      "Día 22: Tomas [29]\n"
     ]
    }
   ],
   "source": [
    "import numpy as np\n",
    "\n",
    "# Datos\n",
    "num_tomas = 30\n",
    "num_actores = 10\n",
    "max_tomas_por_dia = 6\n",
    "\n",
    "tomas_participacion = [\n",
    "    [1,1,1,1,1,0,0,0,0,0], [0,0,1,1,1,0,0,0,0,0], [0,1,0,0,1,0,1,0,0,0],\n",
    "    [1,1,0,0,0,0,1,1,0,0], [0,1,0,1,0,0,0,1,0,0], [1,1,0,1,1,0,0,0,0,0],\n",
    "    [1,1,0,1,1,0,0,0,0,0], [1,1,0,0,0,1,0,0,0,0], [1,1,0,1,0,0,0,0,0,0],\n",
    "    [1,1,0,0,0,1,0,0,1,0], [1,1,1,0,1,0,0,1,0,0], [1,1,1,1,0,1,0,0,0,0],\n",
    "    [1,0,0,1,1,0,0,0,0,0], [1,0,1,0,0,1,0,0,0,0], [1,1,0,0,0,0,1,0,0,0],\n",
    "    [0,0,0,1,0,0,0,0,0,1], [1,0,1,0,0,0,0,0,0,0], [0,0,1,0,0,1,0,0,0,0],\n",
    "    [1,0,1,0,0,0,0,0,0,0], [1,0,1,1,1,0,0,0,0,0], [0,0,0,0,0,1,0,1,0,0],\n",
    "    [1,1,1,1,0,0,0,0,0,0], [1,0,1,0,0,0,0,0,0,0], [0,0,1,0,0,1,0,0,0,0],\n",
    "    [1,1,0,1,0,0,0,0,0,1], [1,0,1,0,1,0,0,0,1,0], [0,0,0,1,1,0,0,0,0,0],\n",
    "    [1,0,0,1,0,0,0,0,0,0], [1,0,0,0,1,1,0,0,0,0], [1,0,0,1,0,0,0,0,0,0]\n",
    "]\n",
    "\n",
    "# Heurística Greedy para asignación de días\n",
    "dias = []  # Lista de días, cada día contiene una lista de tomas\n",
    "\n",
    "for t, toma in enumerate(tomas_participacion):\n",
    "    asignado = False\n",
    "    \n",
    "    for dia in dias:\n",
    "        # Verificar si cabe en el día (máx 6 tomas) y no hay conflicto de actores\n",
    "        if len(dia) < max_tomas_por_dia:\n",
    "            actores_ocupados = np.any(np.array([tomas_participacion[i] for i in dia]), axis=0)\n",
    "            if not np.any(np.array(toma) & actores_ocupados):  # No hay conflictos\n",
    "                dia.append(t)\n",
    "                asignado = True\n",
    "                break\n",
    "    \n",
    "    # Si no pudo asignarse, abrir un nuevo día\n",
    "    if not asignado:\n",
    "        dias.append([t])\n",
    "\n",
    "# Resultados\n",
    "print(f\"Días de grabación necesarios: {len(dias)}\")\n",
    "for i, dia in enumerate(dias):\n",
    "    print(f\"Día {i+1}: Tomas {dia}\")\n"
   ]
  },
  {
   "cell_type": "code",
   "execution_count": null,
   "id": "90168fa7-4302-4f83-8885-59d3de854885",
   "metadata": {},
   "outputs": [],
   "source": []
  }
 ],
 "metadata": {
  "kernelspec": {
   "display_name": "Python 3 (ipykernel)",
   "language": "python",
   "name": "python3"
  },
  "language_info": {
   "codemirror_mode": {
    "name": "ipython",
    "version": 3
   },
   "file_extension": ".py",
   "mimetype": "text/x-python",
   "name": "python",
   "nbconvert_exporter": "python",
   "pygments_lexer": "ipython3",
   "version": "3.12.4"
  }
 },
 "nbformat": 4,
 "nbformat_minor": 5
}
